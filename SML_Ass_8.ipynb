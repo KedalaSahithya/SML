{
  "cells": [
    {
      "cell_type": "markdown",
      "metadata": {
        "id": "view-in-github",
        "colab_type": "text"
      },
      "source": [
        "<a href=\"https://colab.research.google.com/github/KedalaSahithya/SML/blob/main/SML_Ass_8.ipynb\" target=\"_parent\"><img src=\"https://colab.research.google.com/assets/colab-badge.svg\" alt=\"Open In Colab\"/></a>"
      ]
    },
    {
      "cell_type": "code",
      "source": [
        "#Question 1\n",
        "\n",
        "import pandas as pd\n",
        "from sklearn.model_selection import train_test_split\n",
        "from sklearn.linear_model import LogisticRegression\n",
        "from sklearn.metrics import accuracy_score, classification_report, confusion_matrix\n",
        "# Load the dataset\n",
        "data = {\n",
        "    'X1': [10, 5, 80, 15, 2, 12, 8, 14, 3, 6],\n",
        "    'X2': [90, 60, 70, 95, 30, 85, 75, 92, 50, 65],\n",
        "    'X3': [85, 70, 80, 90, 50, 88, 65, 93, 55, 60],\n",
        "    'X4': [1, 0, 0, 1, 0, 1, 0, 1, 0, 0],\n",
        "    'X5': [100, 40, 70, 95, 40, 90, 70, 95, 60, 75],\n",
        "    'Pass/Fail': [1, 0, 0, 1, 0, 1, 0, 1, 0, 0]\n",
        "}\n",
        "df = pd.DataFrame(data)\n",
        "X = df[['X1', 'X2', 'X3', 'X4', 'X5']]\n",
        "y = df['Pass/Fail']\n",
        "X_train, X_test, y_train, y_test = train_test_split(X, y, test_size=0.2, random_state=42)\n",
        "model = LogisticRegression()\n",
        "model.fit(X_train, y_train)\n",
        "y_pred = model.predict(X_test)\n",
        "accuracy = accuracy_score(y_test, y_pred)\n",
        "print(\"Accuracy:\", accuracy)\n",
        "print(\"Classification Report:\")\n",
        "print(classification_report(y_test, y_pred))\n",
        "print(\"Confusion Matrix:\")\n",
        "print(confusion_matrix(y_test, y_pred))"
      ],
      "metadata": {
        "id": "rEeG6_P2aYEA",
        "outputId": "836c338c-e329-42d3-c4c9-867a50e83ab6",
        "colab": {
          "base_uri": "https://localhost:8080/"
        }
      },
      "execution_count": null,
      "outputs": [
        {
          "output_type": "stream",
          "name": "stdout",
          "text": [
            "Accuracy: 1.0\n",
            "Classification Report:\n",
            "              precision    recall  f1-score   support\n",
            "\n",
            "           0       1.00      1.00      1.00         2\n",
            "\n",
            "    accuracy                           1.00         2\n",
            "   macro avg       1.00      1.00      1.00         2\n",
            "weighted avg       1.00      1.00      1.00         2\n",
            "\n",
            "Confusion Matrix:\n",
            "[[2]]\n"
          ]
        }
      ]
    },
    {
      "cell_type": "code",
      "source": [
        "#Question 2\n",
        "import pandas as pd\n",
        "import numpy as np\n",
        "from sklearn.model_selection import train_test_split\n",
        "from sklearn.linear_model import LogisticRegression\n",
        "from sklearn.metrics import accuracy_score, classification_report, confusion_matrix"
      ],
      "metadata": {
        "id": "wTMoOfnza4k3"
      },
      "execution_count": null,
      "outputs": []
    },
    {
      "cell_type": "code",
      "source": [
        "df = pd.read_csv('/content/archive (9).csv')"
      ],
      "metadata": {
        "id": "aNF2x6nkbnPG"
      },
      "execution_count": null,
      "outputs": []
    },
    {
      "cell_type": "code",
      "source": [
        "print(df.head())\n",
        "print(df.describe())"
      ],
      "metadata": {
        "id": "-3hwQyq6bxpn",
        "outputId": "e35dc7c7-47db-48bd-b483-80c37f6cb16a",
        "colab": {
          "base_uri": "https://localhost:8080/"
        }
      },
      "execution_count": null,
      "outputs": [
        {
          "output_type": "stream",
          "name": "stdout",
          "text": [
            "   Age Gender Polyuria Polydipsia sudden weight loss weakness Polyphagia  \\\n",
            "0   40   Male       No        Yes                 No      Yes         No   \n",
            "1   58   Male       No         No                 No      Yes         No   \n",
            "2   41   Male      Yes         No                 No      Yes        Yes   \n",
            "3   45   Male       No         No                Yes      Yes        Yes   \n",
            "4   60   Male      Yes        Yes                Yes      Yes        Yes   \n",
            "\n",
            "  Genital thrush visual blurring Itching Irritability delayed healing  \\\n",
            "0             No              No     Yes           No             Yes   \n",
            "1             No             Yes      No           No              No   \n",
            "2             No              No     Yes           No             Yes   \n",
            "3            Yes              No     Yes           No             Yes   \n",
            "4             No             Yes     Yes          Yes             Yes   \n",
            "\n",
            "  partial paresis muscle stiffness Alopecia Obesity     class  \n",
            "0              No              Yes      Yes     Yes  Positive  \n",
            "1             Yes               No      Yes      No  Positive  \n",
            "2              No              Yes      Yes      No  Positive  \n",
            "3              No               No       No      No  Positive  \n",
            "4             Yes              Yes      Yes     Yes  Positive  \n",
            "              Age\n",
            "count  520.000000\n",
            "mean    48.028846\n",
            "std     12.151466\n",
            "min     16.000000\n",
            "25%     39.000000\n",
            "50%     47.500000\n",
            "75%     57.000000\n",
            "max     90.000000\n"
          ]
        }
      ]
    },
    {
      "cell_type": "code",
      "source": [
        "print(df.isnull().sum())"
      ],
      "metadata": {
        "id": "m6Ey5b1Tb1f0",
        "outputId": "27e7a0d3-50fe-4fd0-c5bf-7e6409405de8",
        "colab": {
          "base_uri": "https://localhost:8080/"
        }
      },
      "execution_count": null,
      "outputs": [
        {
          "output_type": "stream",
          "name": "stdout",
          "text": [
            "Age                   0\n",
            "Gender                0\n",
            "Polyuria              0\n",
            "Polydipsia            0\n",
            "sudden weight loss    0\n",
            "weakness              0\n",
            "Polyphagia            0\n",
            "Genital thrush        0\n",
            "visual blurring       0\n",
            "Itching               0\n",
            "Irritability          0\n",
            "delayed healing       0\n",
            "partial paresis       0\n",
            "muscle stiffness      0\n",
            "Alopecia              0\n",
            "Obesity               0\n",
            "class                 0\n",
            "dtype: int64\n"
          ]
        }
      ]
    },
    {
      "cell_type": "code",
      "source": [
        "X = df.drop('class', axis=1)\n",
        "y = df['class']"
      ],
      "metadata": {
        "id": "ZgvaVW0db6c8"
      },
      "execution_count": null,
      "outputs": []
    },
    {
      "cell_type": "code",
      "source": [
        "X_train, X_test, y_train, y_test = train_test_split(X, y, test_size=0.4, random_state=42)"
      ],
      "metadata": {
        "id": "JCsig-4ab-TG"
      },
      "execution_count": null,
      "outputs": []
    },
    {
      "cell_type": "code",
      "source": [
        " for column in df.columns:\n",
        "    df[column] = df[column].replace({'Yes': 1, 'No': 0})\n",
        "df['Gender'] = df['Gender'].replace({'Male': 1, 'Female': 0})\n",
        "X = df.drop('class', axis=1)\n",
        "y = df['class']\n",
        "X_train, X_test, y_train, y_test = train_test_split(X, y, test_size=0.3, random_state=42)\n",
        "model = LogisticRegression()\n",
        "model.fit(X_train, y_train)\n",
        "y_pred = model.predict(X_test)"
      ],
      "metadata": {
        "id": "E_ov6-mCcBTg",
        "outputId": "4e2160d0-addb-4dbd-cf9b-ae70a569b219",
        "colab": {
          "base_uri": "https://localhost:8080/"
        }
      },
      "execution_count": null,
      "outputs": [
        {
          "output_type": "stream",
          "name": "stderr",
          "text": [
            "/usr/local/lib/python3.10/dist-packages/sklearn/linear_model/_logistic.py:460: ConvergenceWarning: lbfgs failed to converge (status=1):\n",
            "STOP: TOTAL NO. of ITERATIONS REACHED LIMIT.\n",
            "\n",
            "Increase the number of iterations (max_iter) or scale the data as shown in:\n",
            "    https://scikit-learn.org/stable/modules/preprocessing.html\n",
            "Please also refer to the documentation for alternative solver options:\n",
            "    https://scikit-learn.org/stable/modules/linear_model.html#logistic-regression\n",
            "  n_iter_i = _check_optimize_result(\n"
          ]
        }
      ]
    },
    {
      "cell_type": "code",
      "source": [
        "accuracy = accuracy_score(y_test, y_pred)\n",
        "print(\"Accuracy:\", accuracy)\n",
        "print(\"Classification Report:\")\n",
        "print(classification_report(y_test, y_pred))\n",
        "print(\"Confusion Matrix:\")\n",
        "print(confusion_matrix(y_test, y_pred))"
      ],
      "metadata": {
        "id": "SRFQbrjmezyG",
        "outputId": "347b44e9-4800-407e-9d93-a6528b9f52a2",
        "colab": {
          "base_uri": "https://localhost:8080/"
        }
      },
      "execution_count": null,
      "outputs": [
        {
          "output_type": "stream",
          "name": "stdout",
          "text": [
            "Accuracy: 0.9358974358974359\n",
            "Classification Report:\n",
            "              precision    recall  f1-score   support\n",
            "\n",
            "    Negative       0.91      0.91      0.91        54\n",
            "    Positive       0.95      0.95      0.95       102\n",
            "\n",
            "    accuracy                           0.94       156\n",
            "   macro avg       0.93      0.93      0.93       156\n",
            "weighted avg       0.94      0.94      0.94       156\n",
            "\n",
            "Confusion Matrix:\n",
            "[[49  5]\n",
            " [ 5 97]]\n"
          ]
        }
      ]
    }
  ],
  "metadata": {
    "colab": {
      "provenance": [],
      "include_colab_link": true
    },
    "kernelspec": {
      "display_name": "Python 3",
      "name": "python3"
    }
  },
  "nbformat": 4,
  "nbformat_minor": 0
}