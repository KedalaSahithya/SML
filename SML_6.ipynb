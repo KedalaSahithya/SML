{
  "cells": [
    {
      "cell_type": "markdown",
      "metadata": {
        "id": "view-in-github",
        "colab_type": "text"
      },
      "source": [
        "<a href=\"https://colab.research.google.com/github/KedalaSahithya/SML/blob/main/SML_6.ipynb\" target=\"_parent\"><img src=\"https://colab.research.google.com/assets/colab-badge.svg\" alt=\"Open In Colab\"/></a>"
      ]
    },
    {
      "cell_type": "code",
      "source": [
        "import pandas as pd\n",
        "from sklearn.model_selection import train_test_split\n",
        "from sklearn.linear_model import Perceptron\n",
        "from sklearn.metrics import accuracy_score\n",
        "from sklearn.preprocessing import LabelEncoder\n",
        "df = pd.read_csv('/content/archive (9).csv')\n",
        "X = df.drop('class', axis=1)\n",
        "y = df['class']\n",
        "label_encoder = LabelEncoder()\n",
        "X['Gender'] = label_encoder.fit_transform(X['Gender'])\n",
        "for col in X.columns:\n",
        "    if X[col].dtype == 'object':\n",
        "        try:\n",
        "            X[col] = pd.to_numeric(X[col])\n",
        "        except ValueError:\n",
        "            print(f\"Column '{col}' contains non-numeric values.\")\n",
        "            X[col] = label_encoder.fit_transform(X[col])\n",
        "X_train, X_test, y_train, y_test = train_test_split(X, y, test_size=0.2, random_state=42)\n",
        "perceptron = Perceptron(max_iter=1000, tol=1e-3)\n",
        "perceptron.fit(X_train, y_train)\n",
        "y_pred = perceptron.predict(X_test)\n",
        "accuracy = accuracy_score(y_test, y_pred)\n",
        "print(f'Accuracy: {accuracy:.3f}')"
      ],
      "metadata": {
        "id": "syQP9kXmX1Zd",
        "outputId": "8b79e077-a13d-42e4-e308-918f2f8e649e",
        "colab": {
          "base_uri": "https://localhost:8080/"
        }
      },
      "execution_count": null,
      "outputs": [
        {
          "output_type": "stream",
          "name": "stdout",
          "text": [
            "Column 'Polyuria' contains non-numeric values.\n",
            "Column 'Polydipsia' contains non-numeric values.\n",
            "Column 'sudden weight loss' contains non-numeric values.\n",
            "Column 'weakness' contains non-numeric values.\n",
            "Column 'Polyphagia' contains non-numeric values.\n",
            "Column 'Genital thrush' contains non-numeric values.\n",
            "Column 'visual blurring' contains non-numeric values.\n",
            "Column 'Itching' contains non-numeric values.\n",
            "Column 'Irritability' contains non-numeric values.\n",
            "Column 'delayed healing' contains non-numeric values.\n",
            "Column 'partial paresis' contains non-numeric values.\n",
            "Column 'muscle stiffness' contains non-numeric values.\n",
            "Column 'Alopecia' contains non-numeric values.\n",
            "Column 'Obesity' contains non-numeric values.\n",
            "Accuracy: 0.875\n"
          ]
        }
      ]
    },
    {
      "cell_type": "code",
      "source": [
        "import pandas as pd\n",
        "from sklearn.model_selection import train_test_split\n",
        "from sklearn.linear_model import LogisticRegression\n",
        "from sklearn.metrics import accuracy_score, confusion_matrix\n",
        "data = {\n",
        "    'Study Hours per Week': [10, 5, 15, 2, 12, 8, 14, 3, 11, 6],\n",
        "    'Class Attendance (%)': [90, 60, 95, 30, 85, 75, 92, 50, 88, 65],\n",
        "    'Previous Exam Score (%)': [85, 70, 90, 50, 88, 65, 93, 55, 80, 60],\n",
        "    'Participation in Group Study': [1, 0, 1, 0, 1, 0, 1, 0, 1, 0],\n",
        "    'Submission of Assignments (%)': [100, 80, 100, 40, 90, 70, 95, 60, 85, 75],\n",
        "    'Pass/Fail': [1, 0, 1, 0, 1, 0, 1, 0, 1, 0]\n",
        "}\n",
        "df = pd.DataFrame(data)\n",
        "X = df.drop('Pass/Fail', axis=1)\n",
        "y = df['Pass/Fail']\n",
        "X_train, X_test, y_train, y_test = train_test_split(X, y, test_size=0.3, random_state=42)\n",
        "model = LogisticRegression()\n",
        "model.fit(X_train, y_train)\n",
        "y_pred = model.predict(X_test)\n",
        "accuracy = accuracy_score(y_test, y_pred)\n",
        "conf_matrix = confusion_matrix(y_test, y_pred)\n",
        "print(\"Model Accuracy:\", accuracy)\n",
        "print(\"Confusion Matrix:\\n\", conf_matrix)\n"
      ],
      "metadata": {
        "colab": {
          "base_uri": "https://localhost:8080/"
        },
        "id": "pi6C7K8eYPkN",
        "outputId": "f87f5d8f-a84f-4967-e17d-321e32dca2bc"
      },
      "execution_count": null,
      "outputs": [
        {
          "output_type": "stream",
          "name": "stdout",
          "text": [
            "Model Accuracy: 1.0\n",
            "Confusion Matrix:\n",
            " [[2 0]\n",
            " [0 1]]\n"
          ]
        }
      ]
    }
  ],
  "metadata": {
    "colab": {
      "provenance": [],
      "include_colab_link": true
    },
    "kernelspec": {
      "display_name": "Python 3",
      "name": "python3"
    }
  },
  "nbformat": 4,
  "nbformat_minor": 0
}